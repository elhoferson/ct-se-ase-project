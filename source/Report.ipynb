{
 "cells": [
  {
   "cell_type": "markdown",
   "id": "received-rolling",
   "metadata": {},
   "source": [
    "# Current Topics in Software Engineering: Automating Software Engineering\n",
    "## Report: Detect Code Vulnerabilities\n",
    "Kevin Wiltschnig, Alexander Hofer"
   ]
  },
  {
   "cell_type": "markdown",
   "id": "delayed-proof",
   "metadata": {},
   "source": [
    "### Introduction"
   ]
  },
  {
   "cell_type": "markdown",
   "id": "failing-evolution",
   "metadata": {},
   "source": [
    "### Approach"
   ]
  },
  {
   "cell_type": "markdown",
   "id": "charming-anatomy",
   "metadata": {},
   "source": [
    "### Experiments"
   ]
  },
  {
   "cell_type": "markdown",
   "id": "indoor-latin",
   "metadata": {},
   "source": [
    "### Techniques"
   ]
  },
  {
   "cell_type": "markdown",
   "id": "included-fiction",
   "metadata": {},
   "source": [
    "### Resources"
   ]
  },
  {
   "cell_type": "markdown",
   "id": "reasonable-developer",
   "metadata": {},
   "source": [
    "### Analysis of the results"
   ]
  },
  {
   "cell_type": "code",
   "execution_count": null,
   "id": "attached-transportation",
   "metadata": {},
   "outputs": [],
   "source": []
  }
 ],
 "metadata": {
  "kernelspec": {
   "display_name": "Python 3",
   "language": "python",
   "name": "python3"
  },
  "language_info": {
   "codemirror_mode": {
    "name": "ipython",
    "version": 3
   },
   "file_extension": ".py",
   "mimetype": "text/x-python",
   "name": "python",
   "nbconvert_exporter": "python",
   "pygments_lexer": "ipython3",
   "version": "3.8.5"
  }
 },
 "nbformat": 4,
 "nbformat_minor": 5
}
