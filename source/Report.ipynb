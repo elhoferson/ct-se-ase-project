{
 "cells": [
  {
   "cell_type": "markdown",
   "id": "fitted-spirit",
   "metadata": {},
   "source": [
    "# Current Topics in Software Engineering: Automating Software Engineering\n",
    "## Report: Detect Code Vulnerabilities\n",
    "Kevin Wiltschnig, Alexander Hofer"
   ]
  },
  {
   "cell_type": "markdown",
   "source": [
    "### Tests"
   ],
   "metadata": {
    "collapsed": false,
    "pycharm": {
     "name": "#%% md\n"
    }
   }
  },
  {
   "cell_type": "code",
   "execution_count": 34,
   "id": "loving-orlando",
   "metadata": {},
   "outputs": [],
   "source": [
    "import pandas as pd\n",
    "\n",
    "chunk = '../data/MSR_chunk_18.csv'\n",
    "\n",
    "df = pd.read_csv(chunk)"
   ]
  },
  {
   "cell_type": "code",
   "execution_count": 35,
   "outputs": [
    {
     "data": {
      "text/plain": "     Access Gained Attack Origin Authentication Required Availability  \\\n0             None        Remote            Not required      Partial   \n1             None        Remote            Not required      Partial   \n2             None        Remote            Not required      Partial   \n3             None        Remote            Not required      Partial   \n4             None        Remote            Not required      Partial   \n...            ...           ...                     ...          ...   \n9995          None        Remote           Single system     Complete   \n9996          None        Remote           Single system     Complete   \n9997          None        Remote           Single system     Complete   \n9998          None        Remote            Not required         None   \n9999          None        Remote            Not required      Partial   \n\n             CVE ID   CWE ID Complexity Confidentiality Integrity  Score  \\\n0     CVE-2016-1683  CWE-119       High         Partial   Partial    5.1   \n1     CVE-2016-1683  CWE-119       High         Partial   Partial    5.1   \n2     CVE-2016-1683  CWE-119       High         Partial   Partial    5.1   \n3     CVE-2016-1683  CWE-119       High         Partial   Partial    5.1   \n4     CVE-2016-1683  CWE-119       High         Partial   Partial    5.1   \n...             ...      ...        ...             ...       ...    ...   \n9995  CVE-2014-5352      NaN        Low        Complete  Complete    9.0   \n9996  CVE-2014-5352      NaN        Low        Complete  Complete    9.0   \n9997  CVE-2014-5352      NaN        Low        Complete  Complete    9.0   \n9998  CVE-2014-3572  CWE-310        Low            None   Partial    5.0   \n9999  CVE-2014-3571      NaN        Low            None      None    5.0   \n\n     Vulnerability Classification  vul  \n0                   DoS Overflow     0  \n1                   DoS Overflow     0  \n2                   DoS Overflow     0  \n3                   DoS Overflow     0  \n4                   DoS Overflow     0  \n...                           ...  ...  \n9995               DoS Exec Code     1  \n9996               DoS Exec Code     1  \n9997               DoS Exec Code     1  \n9998                          NaN    1  \n9999                         DoS     1  \n\n[10000 rows x 12 columns]",
      "text/html": "<div>\n<style scoped>\n    .dataframe tbody tr th:only-of-type {\n        vertical-align: middle;\n    }\n\n    .dataframe tbody tr th {\n        vertical-align: top;\n    }\n\n    .dataframe thead th {\n        text-align: right;\n    }\n</style>\n<table border=\"1\" class=\"dataframe\">\n  <thead>\n    <tr style=\"text-align: right;\">\n      <th></th>\n      <th>Access Gained</th>\n      <th>Attack Origin</th>\n      <th>Authentication Required</th>\n      <th>Availability</th>\n      <th>CVE ID</th>\n      <th>CWE ID</th>\n      <th>Complexity</th>\n      <th>Confidentiality</th>\n      <th>Integrity</th>\n      <th>Score</th>\n      <th>Vulnerability Classification</th>\n      <th>vul</th>\n    </tr>\n  </thead>\n  <tbody>\n    <tr>\n      <th>0</th>\n      <td>None</td>\n      <td>Remote</td>\n      <td>Not required</td>\n      <td>Partial</td>\n      <td>CVE-2016-1683</td>\n      <td>CWE-119</td>\n      <td>High</td>\n      <td>Partial</td>\n      <td>Partial</td>\n      <td>5.1</td>\n      <td>DoS Overflow</td>\n      <td>0</td>\n    </tr>\n    <tr>\n      <th>1</th>\n      <td>None</td>\n      <td>Remote</td>\n      <td>Not required</td>\n      <td>Partial</td>\n      <td>CVE-2016-1683</td>\n      <td>CWE-119</td>\n      <td>High</td>\n      <td>Partial</td>\n      <td>Partial</td>\n      <td>5.1</td>\n      <td>DoS Overflow</td>\n      <td>0</td>\n    </tr>\n    <tr>\n      <th>2</th>\n      <td>None</td>\n      <td>Remote</td>\n      <td>Not required</td>\n      <td>Partial</td>\n      <td>CVE-2016-1683</td>\n      <td>CWE-119</td>\n      <td>High</td>\n      <td>Partial</td>\n      <td>Partial</td>\n      <td>5.1</td>\n      <td>DoS Overflow</td>\n      <td>0</td>\n    </tr>\n    <tr>\n      <th>3</th>\n      <td>None</td>\n      <td>Remote</td>\n      <td>Not required</td>\n      <td>Partial</td>\n      <td>CVE-2016-1683</td>\n      <td>CWE-119</td>\n      <td>High</td>\n      <td>Partial</td>\n      <td>Partial</td>\n      <td>5.1</td>\n      <td>DoS Overflow</td>\n      <td>0</td>\n    </tr>\n    <tr>\n      <th>4</th>\n      <td>None</td>\n      <td>Remote</td>\n      <td>Not required</td>\n      <td>Partial</td>\n      <td>CVE-2016-1683</td>\n      <td>CWE-119</td>\n      <td>High</td>\n      <td>Partial</td>\n      <td>Partial</td>\n      <td>5.1</td>\n      <td>DoS Overflow</td>\n      <td>0</td>\n    </tr>\n    <tr>\n      <th>...</th>\n      <td>...</td>\n      <td>...</td>\n      <td>...</td>\n      <td>...</td>\n      <td>...</td>\n      <td>...</td>\n      <td>...</td>\n      <td>...</td>\n      <td>...</td>\n      <td>...</td>\n      <td>...</td>\n      <td>...</td>\n    </tr>\n    <tr>\n      <th>9995</th>\n      <td>None</td>\n      <td>Remote</td>\n      <td>Single system</td>\n      <td>Complete</td>\n      <td>CVE-2014-5352</td>\n      <td>NaN</td>\n      <td>Low</td>\n      <td>Complete</td>\n      <td>Complete</td>\n      <td>9.0</td>\n      <td>DoS Exec Code</td>\n      <td>1</td>\n    </tr>\n    <tr>\n      <th>9996</th>\n      <td>None</td>\n      <td>Remote</td>\n      <td>Single system</td>\n      <td>Complete</td>\n      <td>CVE-2014-5352</td>\n      <td>NaN</td>\n      <td>Low</td>\n      <td>Complete</td>\n      <td>Complete</td>\n      <td>9.0</td>\n      <td>DoS Exec Code</td>\n      <td>1</td>\n    </tr>\n    <tr>\n      <th>9997</th>\n      <td>None</td>\n      <td>Remote</td>\n      <td>Single system</td>\n      <td>Complete</td>\n      <td>CVE-2014-5352</td>\n      <td>NaN</td>\n      <td>Low</td>\n      <td>Complete</td>\n      <td>Complete</td>\n      <td>9.0</td>\n      <td>DoS Exec Code</td>\n      <td>1</td>\n    </tr>\n    <tr>\n      <th>9998</th>\n      <td>None</td>\n      <td>Remote</td>\n      <td>Not required</td>\n      <td>None</td>\n      <td>CVE-2014-3572</td>\n      <td>CWE-310</td>\n      <td>Low</td>\n      <td>None</td>\n      <td>Partial</td>\n      <td>5.0</td>\n      <td>NaN</td>\n      <td>1</td>\n    </tr>\n    <tr>\n      <th>9999</th>\n      <td>None</td>\n      <td>Remote</td>\n      <td>Not required</td>\n      <td>Partial</td>\n      <td>CVE-2014-3571</td>\n      <td>NaN</td>\n      <td>Low</td>\n      <td>None</td>\n      <td>None</td>\n      <td>5.0</td>\n      <td>DoS</td>\n      <td>1</td>\n    </tr>\n  </tbody>\n</table>\n<p>10000 rows × 12 columns</p>\n</div>"
     },
     "execution_count": 35,
     "metadata": {},
     "output_type": "execute_result"
    }
   ],
   "source": [
    "df.iloc[:, [2, 3, 4, 5, 6, 8, 9, 10, 11, 14, 17, 35]]"
   ],
   "metadata": {
    "collapsed": false,
    "pycharm": {
     "name": "#%%\n"
    }
   }
  },
  {
   "cell_type": "code",
   "execution_count": 36,
   "outputs": [
    {
     "data": {
      "text/plain": "      Unnamed: 0.1  Unnamed: 0 Access Gained Attack Origin  \\\n7736        177736      177736          None        Remote   \n7737        177737      177737          None        Remote   \n7738        177738      177738          None        Remote   \n7739        177739      177739          None        Remote   \n7740        177740      177740          None        Remote   \n...            ...         ...           ...           ...   \n9995        179995      179995          None        Remote   \n9996        179996      179996          None        Remote   \n9997        179997      179997          None        Remote   \n9998        179998      179998          None        Remote   \n9999        179999      179999          None        Remote   \n\n     Authentication Required Availability         CVE ID  \\\n7736           Single system      Partial  CVE-2015-8467   \n7737            Not required      Partial  CVE-2015-8382   \n7738            Not required      Partial  CVE-2013-6712   \n7739            Not required      Partial  CVE-2013-6449   \n7740            Not required      Partial  CVE-2013-6420   \n...                      ...          ...            ...   \n9995           Single system     Complete  CVE-2014-5352   \n9996           Single system     Complete  CVE-2014-5352   \n9997           Single system     Complete  CVE-2014-5352   \n9998            Not required         None  CVE-2014-3572   \n9999            Not required      Partial  CVE-2014-3571   \n\n                                           CVE Page   CWE ID Complexity  ...  \\\n7736  https://www.cvedetails.com/cve/CVE-2015-8467/  CWE-264     Medium  ...   \n7737  https://www.cvedetails.com/cve/CVE-2015-8382/  CWE-119        Low  ...   \n7738  https://www.cvedetails.com/cve/CVE-2013-6712/  CWE-119        Low  ...   \n7739  https://www.cvedetails.com/cve/CVE-2013-6449/  CWE-310     Medium  ...   \n7740  https://www.cvedetails.com/cve/CVE-2013-6420/  CWE-119        Low  ...   \n...                                             ...      ...        ...  ...   \n9995  https://www.cvedetails.com/cve/CVE-2014-5352/      NaN        Low  ...   \n9996  https://www.cvedetails.com/cve/CVE-2014-5352/      NaN        Low  ...   \n9997  https://www.cvedetails.com/cve/CVE-2014-5352/      NaN        Low  ...   \n9998  https://www.cvedetails.com/cve/CVE-2014-3572/  CWE-310        Low  ...   \n9999  https://www.cvedetails.com/cve/CVE-2014-3571/      NaN        Low  ...   \n\n     lang                                        lines_after  \\\n7736    C         struct ldb_context *ldb = ldb_module_ge...   \n7737    C         memset(offsets, 0, size_offsets*sizeof(...   \n7738    C                 } while (!s->errors->error_coun...   \n7739    C         if (s->method->version == TLS1_2_VERSIO...   \n7740    C         if (ASN1_STRING_type(timestr) != V_ASN1...   \n...   ...                                                ...   \n9995    C      if (ctx->terminated || !ctx->established) ...   \n9996    C      if (ctx->terminated || !ctx->established) {\\n   \n9997    C                           kgctx.established = 1;\\n   \n9998    C  \\tEVP_MD_CTX_init(&md_ctx);\\n\\n\\talg_k=s->s3->...   \n9999    C  \\t\\t    s->packet_length > DTLS1_RT_HEADER_LEN...   \n\n                                           lines_before  \\\n7736                                                NaN   \n7737                                                NaN   \n7738                                  } while (*ptr);\\n   \n7739         if (TLS1_get_version(s) >= TLS1_2_VERSI...   \n7740         if (timestr->length < 13) {\\n          ...   \n...                                                 ...   \n9995      if (! ctx->established) {\\n    /* that's i...   \n9996                        if (! ctx->established) {\\n   \n9997                                                NaN   \n9998  \\t\\tif (s->s3->tmp.new_cipher->algorithm_mkey ...   \n9999           \\t\\t    *p == SSL3_MT_CLIENT_HELLO) &&\\n   \n\n                                      parentID  \\\n7736  a819d2b440aafa3138d95ff6e8b824da885a70e9   \n7737  1a2ec3fc60e428c47fd59c9dd7966c71ca44024d   \n7738  63f3ff7b5f89f50eb9df76c3d0860c04cc6e0f66   \n7739  2ec4181ba92fc6b828687d2dc47c13dcd35a5d93   \n7740  32873cd0ddea7df8062213bb025beb6fb070e59d   \n...                                        ...   \n9995                                       NaN   \n9996                                       NaN   \n9997                                       NaN   \n9998                                       NaN   \n9999                                       NaN   \n\n                                                  patch  project  \\\n7736  @@ -1558,12 +1558,15 @@ static int samldb_chec...    samba   \n7737  @@ -640,7 +640,7 @@ PHPAPI void php_pcre_match...      php   \n7738  @@ -1,4 +1,4 @@\\n-/* Generated by re2c 0.13.5 ...      php   \n7739  @@ -4286,7 +4286,7 @@ need to go to SSL_ST_ACC...  openssl   \n7740  @@ -644,18 +644,28 @@ static time_t asn1_time_...      php   \n...                                                 ...      ...   \n9995  @@ -39,11 +39,18 @@ krb5_gss_process_context_t...     krb5   \n9996  @@ -95,7 +95,7 @@ krb5_gss_wrap_size_limit(min...     krb5   \n9997  @@ -127,6 +127,7 @@ main(int argc, char *argv[...     krb5   \n9998  @@ -1376,6 +1376,8 @@ int ssl3_get_key_exchang...  openssl   \n9999  @@ -679,7 +679,8 @@ int dtls1_get_record(SSL *...  openssl   \n\n                                          project_after  \\\n7736  https://git.samba.org/?p=samba.git;a=blob;f=so...   \n7737  https://git.php.net/?p=php-src.git;a=blob;f=ex...   \n7738  https://git.php.net/?p=php-src.git;a=blob;f=ex...   \n7739  https://git.openssl.org/gitweb/?p=openssl.git;...   \n7740  https://git.php.net/?p=php-src.git;a=blob;f=ex...   \n...                                                 ...   \n9995           82dc33da50338ac84c7b4102dc6513d897d0506a   \n9996           82dc33da50338ac84c7b4102dc6513d897d0506a   \n9997           82dc33da50338ac84c7b4102dc6513d897d0506a   \n9998           b15f8769644b00ef7283521593360b7b2135cb63   \n9999           248385c606620b29ecc96ca9d3603463f879652b   \n\n                                         project_before  vul  \\\n7736  https://git.samba.org/?p=samba.git;a=blob;f=so...    1   \n7737  https://git.php.net/?p=php-src.git;a=blob;f=ex...    1   \n7738  https://git.php.net/?p=php-src.git;a=blob;f=ex...    1   \n7739  https://git.openssl.org/gitweb/?p=openssl.git;...    1   \n7740  https://git.php.net/?p=php-src.git;a=blob;f=ex...    1   \n...                                                 ...  ...   \n9995           19bb843b40d3f62f4e29f4847717862f1423135e    1   \n9996           19bb843b40d3f62f4e29f4847717862f1423135e    1   \n9997           19bb843b40d3f62f4e29f4847717862f1423135e    1   \n9998           b5526482ef81ee7906b967e326d23a45fbcf3abc    1   \n9999           feba02f3919495e1b960c33ba849e10e77d0785d    1   \n\n                                      vul_func_with_fix  \n7736  static int samldb_check_user_account_control_a...  \n7737  PHPAPI void php_pcre_match_impl(pcre_cache_ent...  \n7738  static int scan(Scanner *s)\\n{\\n\\tuchar *curso...  \n7739   long ssl_get_algorithm2(SSL *s)\\n        {\\n ...  \n7740  static time_t asn1_time_to_time_t(ASN1_UTCTIME...  \n...                                                 ...  \n9995  krb5_gss_process_context_token(minor_status, c...  \n9996  krb5_gss_wrap_size_limit(minor_status, context...  \n9997  main(int argc, char *argv[])\\n{\\n    OM_uint32...  \n9998  int ssl3_get_key_exchange(SSL *s)\\n\\t{\\n#ifnde...  \n9999  int dtls1_get_record(SSL *s)\\n\\t{\\n\\tint ssl_m...  \n\n[2264 rows x 37 columns]",
      "text/html": "<div>\n<style scoped>\n    .dataframe tbody tr th:only-of-type {\n        vertical-align: middle;\n    }\n\n    .dataframe tbody tr th {\n        vertical-align: top;\n    }\n\n    .dataframe thead th {\n        text-align: right;\n    }\n</style>\n<table border=\"1\" class=\"dataframe\">\n  <thead>\n    <tr style=\"text-align: right;\">\n      <th></th>\n      <th>Unnamed: 0.1</th>\n      <th>Unnamed: 0</th>\n      <th>Access Gained</th>\n      <th>Attack Origin</th>\n      <th>Authentication Required</th>\n      <th>Availability</th>\n      <th>CVE ID</th>\n      <th>CVE Page</th>\n      <th>CWE ID</th>\n      <th>Complexity</th>\n      <th>...</th>\n      <th>lang</th>\n      <th>lines_after</th>\n      <th>lines_before</th>\n      <th>parentID</th>\n      <th>patch</th>\n      <th>project</th>\n      <th>project_after</th>\n      <th>project_before</th>\n      <th>vul</th>\n      <th>vul_func_with_fix</th>\n    </tr>\n  </thead>\n  <tbody>\n    <tr>\n      <th>7736</th>\n      <td>177736</td>\n      <td>177736</td>\n      <td>None</td>\n      <td>Remote</td>\n      <td>Single system</td>\n      <td>Partial</td>\n      <td>CVE-2015-8467</td>\n      <td>https://www.cvedetails.com/cve/CVE-2015-8467/</td>\n      <td>CWE-264</td>\n      <td>Medium</td>\n      <td>...</td>\n      <td>C</td>\n      <td>struct ldb_context *ldb = ldb_module_ge...</td>\n      <td>NaN</td>\n      <td>a819d2b440aafa3138d95ff6e8b824da885a70e9</td>\n      <td>@@ -1558,12 +1558,15 @@ static int samldb_chec...</td>\n      <td>samba</td>\n      <td>https://git.samba.org/?p=samba.git;a=blob;f=so...</td>\n      <td>https://git.samba.org/?p=samba.git;a=blob;f=so...</td>\n      <td>1</td>\n      <td>static int samldb_check_user_account_control_a...</td>\n    </tr>\n    <tr>\n      <th>7737</th>\n      <td>177737</td>\n      <td>177737</td>\n      <td>None</td>\n      <td>Remote</td>\n      <td>Not required</td>\n      <td>Partial</td>\n      <td>CVE-2015-8382</td>\n      <td>https://www.cvedetails.com/cve/CVE-2015-8382/</td>\n      <td>CWE-119</td>\n      <td>Low</td>\n      <td>...</td>\n      <td>C</td>\n      <td>memset(offsets, 0, size_offsets*sizeof(...</td>\n      <td>NaN</td>\n      <td>1a2ec3fc60e428c47fd59c9dd7966c71ca44024d</td>\n      <td>@@ -640,7 +640,7 @@ PHPAPI void php_pcre_match...</td>\n      <td>php</td>\n      <td>https://git.php.net/?p=php-src.git;a=blob;f=ex...</td>\n      <td>https://git.php.net/?p=php-src.git;a=blob;f=ex...</td>\n      <td>1</td>\n      <td>PHPAPI void php_pcre_match_impl(pcre_cache_ent...</td>\n    </tr>\n    <tr>\n      <th>7738</th>\n      <td>177738</td>\n      <td>177738</td>\n      <td>None</td>\n      <td>Remote</td>\n      <td>Not required</td>\n      <td>Partial</td>\n      <td>CVE-2013-6712</td>\n      <td>https://www.cvedetails.com/cve/CVE-2013-6712/</td>\n      <td>CWE-119</td>\n      <td>Low</td>\n      <td>...</td>\n      <td>C</td>\n      <td>} while (!s-&gt;errors-&gt;error_coun...</td>\n      <td>} while (*ptr);\\n</td>\n      <td>63f3ff7b5f89f50eb9df76c3d0860c04cc6e0f66</td>\n      <td>@@ -1,4 +1,4 @@\\n-/* Generated by re2c 0.13.5 ...</td>\n      <td>php</td>\n      <td>https://git.php.net/?p=php-src.git;a=blob;f=ex...</td>\n      <td>https://git.php.net/?p=php-src.git;a=blob;f=ex...</td>\n      <td>1</td>\n      <td>static int scan(Scanner *s)\\n{\\n\\tuchar *curso...</td>\n    </tr>\n    <tr>\n      <th>7739</th>\n      <td>177739</td>\n      <td>177739</td>\n      <td>None</td>\n      <td>Remote</td>\n      <td>Not required</td>\n      <td>Partial</td>\n      <td>CVE-2013-6449</td>\n      <td>https://www.cvedetails.com/cve/CVE-2013-6449/</td>\n      <td>CWE-310</td>\n      <td>Medium</td>\n      <td>...</td>\n      <td>C</td>\n      <td>if (s-&gt;method-&gt;version == TLS1_2_VERSIO...</td>\n      <td>if (TLS1_get_version(s) &gt;= TLS1_2_VERSI...</td>\n      <td>2ec4181ba92fc6b828687d2dc47c13dcd35a5d93</td>\n      <td>@@ -4286,7 +4286,7 @@ need to go to SSL_ST_ACC...</td>\n      <td>openssl</td>\n      <td>https://git.openssl.org/gitweb/?p=openssl.git;...</td>\n      <td>https://git.openssl.org/gitweb/?p=openssl.git;...</td>\n      <td>1</td>\n      <td>long ssl_get_algorithm2(SSL *s)\\n        {\\n ...</td>\n    </tr>\n    <tr>\n      <th>7740</th>\n      <td>177740</td>\n      <td>177740</td>\n      <td>None</td>\n      <td>Remote</td>\n      <td>Not required</td>\n      <td>Partial</td>\n      <td>CVE-2013-6420</td>\n      <td>https://www.cvedetails.com/cve/CVE-2013-6420/</td>\n      <td>CWE-119</td>\n      <td>Low</td>\n      <td>...</td>\n      <td>C</td>\n      <td>if (ASN1_STRING_type(timestr) != V_ASN1...</td>\n      <td>if (timestr-&gt;length &lt; 13) {\\n          ...</td>\n      <td>32873cd0ddea7df8062213bb025beb6fb070e59d</td>\n      <td>@@ -644,18 +644,28 @@ static time_t asn1_time_...</td>\n      <td>php</td>\n      <td>https://git.php.net/?p=php-src.git;a=blob;f=ex...</td>\n      <td>https://git.php.net/?p=php-src.git;a=blob;f=ex...</td>\n      <td>1</td>\n      <td>static time_t asn1_time_to_time_t(ASN1_UTCTIME...</td>\n    </tr>\n    <tr>\n      <th>...</th>\n      <td>...</td>\n      <td>...</td>\n      <td>...</td>\n      <td>...</td>\n      <td>...</td>\n      <td>...</td>\n      <td>...</td>\n      <td>...</td>\n      <td>...</td>\n      <td>...</td>\n      <td>...</td>\n      <td>...</td>\n      <td>...</td>\n      <td>...</td>\n      <td>...</td>\n      <td>...</td>\n      <td>...</td>\n      <td>...</td>\n      <td>...</td>\n      <td>...</td>\n      <td>...</td>\n    </tr>\n    <tr>\n      <th>9995</th>\n      <td>179995</td>\n      <td>179995</td>\n      <td>None</td>\n      <td>Remote</td>\n      <td>Single system</td>\n      <td>Complete</td>\n      <td>CVE-2014-5352</td>\n      <td>https://www.cvedetails.com/cve/CVE-2014-5352/</td>\n      <td>NaN</td>\n      <td>Low</td>\n      <td>...</td>\n      <td>C</td>\n      <td>if (ctx-&gt;terminated || !ctx-&gt;established) ...</td>\n      <td>if (! ctx-&gt;established) {\\n    /* that's i...</td>\n      <td>NaN</td>\n      <td>@@ -39,11 +39,18 @@ krb5_gss_process_context_t...</td>\n      <td>krb5</td>\n      <td>82dc33da50338ac84c7b4102dc6513d897d0506a</td>\n      <td>19bb843b40d3f62f4e29f4847717862f1423135e</td>\n      <td>1</td>\n      <td>krb5_gss_process_context_token(minor_status, c...</td>\n    </tr>\n    <tr>\n      <th>9996</th>\n      <td>179996</td>\n      <td>179996</td>\n      <td>None</td>\n      <td>Remote</td>\n      <td>Single system</td>\n      <td>Complete</td>\n      <td>CVE-2014-5352</td>\n      <td>https://www.cvedetails.com/cve/CVE-2014-5352/</td>\n      <td>NaN</td>\n      <td>Low</td>\n      <td>...</td>\n      <td>C</td>\n      <td>if (ctx-&gt;terminated || !ctx-&gt;established) {\\n</td>\n      <td>if (! ctx-&gt;established) {\\n</td>\n      <td>NaN</td>\n      <td>@@ -95,7 +95,7 @@ krb5_gss_wrap_size_limit(min...</td>\n      <td>krb5</td>\n      <td>82dc33da50338ac84c7b4102dc6513d897d0506a</td>\n      <td>19bb843b40d3f62f4e29f4847717862f1423135e</td>\n      <td>1</td>\n      <td>krb5_gss_wrap_size_limit(minor_status, context...</td>\n    </tr>\n    <tr>\n      <th>9997</th>\n      <td>179997</td>\n      <td>179997</td>\n      <td>None</td>\n      <td>Remote</td>\n      <td>Single system</td>\n      <td>Complete</td>\n      <td>CVE-2014-5352</td>\n      <td>https://www.cvedetails.com/cve/CVE-2014-5352/</td>\n      <td>NaN</td>\n      <td>Low</td>\n      <td>...</td>\n      <td>C</td>\n      <td>kgctx.established = 1;\\n</td>\n      <td>NaN</td>\n      <td>NaN</td>\n      <td>@@ -127,6 +127,7 @@ main(int argc, char *argv[...</td>\n      <td>krb5</td>\n      <td>82dc33da50338ac84c7b4102dc6513d897d0506a</td>\n      <td>19bb843b40d3f62f4e29f4847717862f1423135e</td>\n      <td>1</td>\n      <td>main(int argc, char *argv[])\\n{\\n    OM_uint32...</td>\n    </tr>\n    <tr>\n      <th>9998</th>\n      <td>179998</td>\n      <td>179998</td>\n      <td>None</td>\n      <td>Remote</td>\n      <td>Not required</td>\n      <td>None</td>\n      <td>CVE-2014-3572</td>\n      <td>https://www.cvedetails.com/cve/CVE-2014-3572/</td>\n      <td>CWE-310</td>\n      <td>Low</td>\n      <td>...</td>\n      <td>C</td>\n      <td>\\tEVP_MD_CTX_init(&amp;md_ctx);\\n\\n\\talg_k=s-&gt;s3-&gt;...</td>\n      <td>\\t\\tif (s-&gt;s3-&gt;tmp.new_cipher-&gt;algorithm_mkey ...</td>\n      <td>NaN</td>\n      <td>@@ -1376,6 +1376,8 @@ int ssl3_get_key_exchang...</td>\n      <td>openssl</td>\n      <td>b15f8769644b00ef7283521593360b7b2135cb63</td>\n      <td>b5526482ef81ee7906b967e326d23a45fbcf3abc</td>\n      <td>1</td>\n      <td>int ssl3_get_key_exchange(SSL *s)\\n\\t{\\n#ifnde...</td>\n    </tr>\n    <tr>\n      <th>9999</th>\n      <td>179999</td>\n      <td>179999</td>\n      <td>None</td>\n      <td>Remote</td>\n      <td>Not required</td>\n      <td>Partial</td>\n      <td>CVE-2014-3571</td>\n      <td>https://www.cvedetails.com/cve/CVE-2014-3571/</td>\n      <td>NaN</td>\n      <td>Low</td>\n      <td>...</td>\n      <td>C</td>\n      <td>\\t\\t    s-&gt;packet_length &gt; DTLS1_RT_HEADER_LEN...</td>\n      <td>\\t\\t    *p == SSL3_MT_CLIENT_HELLO) &amp;&amp;\\n</td>\n      <td>NaN</td>\n      <td>@@ -679,7 +679,8 @@ int dtls1_get_record(SSL *...</td>\n      <td>openssl</td>\n      <td>248385c606620b29ecc96ca9d3603463f879652b</td>\n      <td>feba02f3919495e1b960c33ba849e10e77d0785d</td>\n      <td>1</td>\n      <td>int dtls1_get_record(SSL *s)\\n\\t{\\n\\tint ssl_m...</td>\n    </tr>\n  </tbody>\n</table>\n<p>2264 rows × 37 columns</p>\n</div>"
     },
     "execution_count": 36,
     "metadata": {},
     "output_type": "execute_result"
    }
   ],
   "source": [
    "df.loc[df['vul'] == 1]"
   ],
   "metadata": {
    "collapsed": false,
    "pycharm": {
     "name": "#%%\n"
    }
   }
  },
  {
   "cell_type": "markdown",
   "id": "instant-briefs",
   "metadata": {},
   "source": [
    "### Introduction"
   ]
  },
  {
   "cell_type": "code",
   "execution_count": 36,
   "id": "saving-inclusion",
   "metadata": {},
   "outputs": [],
   "source": []
  },
  {
   "cell_type": "markdown",
   "id": "oriented-trouble",
   "metadata": {},
   "source": [
    "### Approach"
   ]
  },
  {
   "cell_type": "markdown",
   "id": "informational-copper",
   "metadata": {},
   "source": [
    "### Experiments"
   ]
  },
  {
   "cell_type": "markdown",
   "id": "spectacular-cosmetic",
   "metadata": {},
   "source": [
    "### Techniques"
   ]
  },
  {
   "cell_type": "markdown",
   "id": "later-mapping",
   "metadata": {},
   "source": [
    "### Resources"
   ]
  },
  {
   "cell_type": "markdown",
   "id": "olive-richmond",
   "metadata": {},
   "source": [
    "### Analysis of the results"
   ]
  },
  {
   "cell_type": "code",
   "execution_count": 36,
   "id": "ceramic-extraction",
   "metadata": {},
   "outputs": [],
   "source": []
  }
 ],
 "metadata": {
  "kernelspec": {
   "display_name": "Python 3",
   "language": "python",
   "name": "python3"
  },
  "language_info": {
   "codemirror_mode": {
    "name": "ipython",
    "version": 3
   },
   "file_extension": ".py",
   "mimetype": "text/x-python",
   "name": "python",
   "nbconvert_exporter": "python",
   "pygments_lexer": "ipython3",
   "version": "3.8.5"
  }
 },
 "nbformat": 4,
 "nbformat_minor": 5
}